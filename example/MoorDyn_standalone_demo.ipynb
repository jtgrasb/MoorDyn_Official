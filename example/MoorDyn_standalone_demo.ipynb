{
 "cells": [
  {
   "cell_type": "markdown",
   "id": "2431a7",
   "metadata": {
    "collapsed": false
   },
   "source": [
    "This Jupyter Notebook was presented during Software Demo Days. A link to that presentation can be found here: https://www.youtube.com/watch?v=FqW7Xpl_VNk\n",
    "\n",
    "# Starting Out\n",
    "\n",
    "Some reminder notes about MoorDyn:\n",
    "- MoorDyn is a library driven by an external code\n",
    "  - Common publicly available drivers are WEC-Sim and OpenFAST, there are also numerous private drivers that have been built\n",
    "  - You can also build your own driver, which is what we do here in this demo\n",
    "- The driver can either represent a larger system, like a floating wave energy converter, or it can drive the MoorDyn code in simulating a stand-alone system\n",
    "\n",
    "For this demo, we will be running MoorDyn-C using the example cases from the [MoorDyn documentation](https://moordyn.readthedocs.io/en/latest/drivers.html#python) and the [MoorDyn-C test library](https://github.com/FloatingArrayDesign/MoorDyn/tree/master/tests/Mooring). We will drive these systems by moving the fairleads at a constant velocity.\n",
    "\n",
    "To run MoorDyn-F, you need to use the MoorDyn-F driver. While it's beyond what we will talk about today, instructions and example files can be found in the `MoorDynF_example/` directory.\n"
   ]
  },
  {
   "cell_type": "code",
   "execution_count": null,
   "id": "627cec",
   "metadata": {
    "collapsed": false
   },
   "outputs": [],
   "source": [
    "# start by importing necessary modules\n",
    "\n",
    "import moordyn\n",
    "import moorpy # a nice tool for visualizing moordyn\n",
    "import numpy as np"
   ]
  },
  {
   "cell_type": "markdown",
   "id": "8e9e87",
   "metadata": {
    "collapsed": false
   },
   "source": [
    "# 3-lines Simple Example\n",
    "\n",
    "## Input File\n",
    "\n",
    "For the first example, we will be simulating three catenary chain moorings on a floating wind turbine platform with no water kinematics \\(waves and currents\\). This is the mooring system of the OC3 Hywind Spar from [Jonkman 2010](https://www.nrel.gov/docs/fy10osti/47535.pdf) shown below.\n",
    "\n",
    "<img src=\"jonkman_2010_3-1.png\" alt=\"OC3 Spar Mooring\" width=\"400\">\n",
    "\n",
    "These three mooring lines are attached to the platform at 70 m below the waterline and 5.2 m from the platform center, this location is known as the fairlead (represented as a MoorDyn point object). \n",
    "We will run this simulation by telling MoorDyn how each fairlead is moving, and MoorDyn will output to our driver the forces at each fairlead. MoorDyn will also\n",
    "produce output files that describe how the system is performing.\n",
    "\n",
    "This setup looks like the following MoorDyn input file:\n",
    "\n",
    "```\n",
    "--------------------- MoorDyn Input File ------------------------------------\n",
    "MoorDyn input file of the mooring system for OC3-Hywind\n",
    "----------------------- LINE TYPES ------------------------------------------\n",
    "TypeName   Diam    Mass/m     EA         BA/-zeta    EI         Cd     Ca     CdAx    CaAx\n",
    "(name)     (m)     (kg/m)     (N)        (N-s/-)     (N-m^2)    (-)    (-)    (-)     (-)\n",
    "main       0.09    77.7066    384.243E6  -0.8        0          1.6    1.0    0.1     0.0\n",
    "---------------------- POINT PROPERTIES --------------------------------\n",
    "ID    Type      X       Y       Z       Mass   Volume  CdA    Ca\n",
    "(#)   (-)       (m)     (m)     (m)     (kg)   (mˆ3)   (m^2)  (-)\n",
    "1     Fixed     853.87  0       -320.0  0      0       0      0\n",
    "2     Fixed     -426.94 739.47  -320.0  0      0       0      0\n",
    "3     Fixed     -426.94 -739.47 -320.0  0      0       0      0\n",
    "4     Coupled    5.2     0.0     -70.0   0      0       0      0\n",
    "5     Coupled    -2.6    4.5     -70.0   0      0       0      0\n",
    "6     Coupled    -2.6    -4.5    -70.0   0      0       0      0\n",
    "---------------------- LINES ----------------------------------------\n",
    "ID   LineType   AttachA  AttachB  UnstrLen  NumSegs  LineOutputs\n",
    "(#)   (name)     (#)      (#)       (m)       (-)     (-)\n",
    "1     main       1        4         902.2     20      p\n",
    "2     main       2        5         902.2     20      p\n",
    "3     main       3        6         902.2     20      p\n",
    "---------------------- OPTIONS -----------------------------------------\n",
    "2             writeLog      Write a log file\n",
    "0.002         dtM           time step to use in mooring integration (s)\n",
    "3.0e6         kBot          bottom stiffness (Pa/m)\n",
    "3.0e5         cBot          bottom damping (Pa-s/m)\n",
    "1025.0        WtrDnsty      water density (kg/m^3)\n",
    "320           WtrDpth       water depth (m)\n",
    "1.0           dtIC          time interval for analyzing convergence during IC gen (s)\n",
    "100.0         TmaxIC        max time for ic gen (s)\n",
    "4.0           CdScaleIC     factor by which to scale drag coefficients during dynamic relaxation (-)\n",
    "0.001         threshIC      threshold for IC convergence (-)\n",
    "1             disableOutTime\n",
    "---------------------- OUTPUTS -----------------------------------------\n",
    "FairTen1\n",
    "FairTen2\n",
    "FairTen3\n",
    "------------------------- need this line -------------------------------------- \n",
    "```\n",
    "\n",
    "More information on MoorDyn input files can be found in the [V2 input file section of the documentation](https://moordyn.readthedocs.io/en/latest/inputs.html#the-v2-input-file).\n",
    "\n"
   ]
  },
  {
   "cell_type": "markdown",
   "id": "d1f3b5",
   "metadata": {
    "collapsed": false
   },
   "source": [
    "## Initialization\n",
    "First, we initialize the system:"
   ]
  },
  {
   "cell_type": "code",
   "execution_count": null,
   "id": "d42146",
   "metadata": {
    "collapsed": false
   },
   "outputs": [
    {
     "name": "stdout",
     "output_type": "stream",
     "text": [
      "\n",
      " Running MoorDyn (v2.4.0)\n",
      "         MoorDyn v2 has significant ongoing input file changes from v1.\n",
      "   Copyright: (C) 2024 National Renewable Energy Laboratory, (C) 2014-2019 Matt Hall\n",
      "   This program is released under the  BSD 3-Clause license.\n",
      "The filename is lines.txt\n",
      "MoorDyn v2 log file with output level MSG at 'lines.log'\n",
      "Generated entities:\n",
      "\tnLineTypes  = 1\n",
      "\tnRodTypes   = 0\n",
      "\tnPoints     = 6\n",
      "\tnBodies     = 0\n",
      "\tnRods       = 0\n",
      "\tnLines      = 3\n",
      "\tnFails      = 0\n",
      "\tnFreeBodies = 0\n",
      "\tnFreeRods   = 0\n",
      "\tnFreePoints  = 0\n",
      "\tnCpldBodies = 0\n",
      "\tnCpldRods   = 0\n",
      "\tnCpldPoints = 3\n",
      "Time integrator = 2nd order Runge-Kutta\n",
      "Water kinematics for IC gen:\n",
      "   No Waves or Currents, or set externally\n",
      "Creating mooring system...\n",
      "Initializing coupled Point 4 at 5.2, 0, -70\n",
      "Initializing coupled Point 5 at -2.6, 4.5, -70\n",
      "Initializing coupled Point 6 at -2.6, -4.5, -70\n",
      "dtM = 0.002 s (CFL = 0.015691)\n",
      "Finalizing ICs using static solve\n",
      "  - Line1:\n",
      "    ID      : 1\n",
      "    UnstrLen: 902.2\n",
      "    N       : 20\n",
      "    d       : 0.09\n",
      "    rho     : 12214.7\n",
      "    EAMod   : 1\n",
      "    EA      : 3.84243e+08\n",
      "    BA      : -0.8\n",
      "    EI      : 0\n",
      "    Can     : 1\n",
      "    Cat     : 0\n",
      "    Cdn     : 1.6\n",
      "    Cdt     : 0.1\n",
      "    Cl      : 0\n",
      "    dF      : 0\n",
      "    cF      : 0\n",
      "    ww_l    : 698.333\n",
      "Line 1 damping set to 9.80212e+08 Pa-s = 6.23584e+06 Ns, based on input of -0.8\n",
      "Initialized Line 1\n",
      "  - Line2:\n",
      "    ID      : 2\n",
      "    UnstrLen: 902.2\n",
      "    N       : 20\n",
      "    d       : 0.09\n",
      "    rho     : 12214.7\n",
      "    EAMod   : 1\n",
      "    EA      : 3.84243e+08\n",
      "    BA      : -0.8\n",
      "    EI      : 0\n",
      "    Can     : 1\n",
      "    Cat     : 0\n",
      "    Cdn     : 1.6\n",
      "    Cdt     : 0.1\n",
      "    Cl      : 0\n",
      "    dF      : 0\n",
      "    cF      : 0\n",
      "    ww_l    : 698.333\n",
      "Line 2 damping set to 9.80212e+08 Pa-s = 6.23584e+06 Ns, based on input of -0.8\n",
      "Initialized Line 2\n",
      "  - Line3:\n",
      "    ID      : 3\n",
      "    UnstrLen: 902.2\n",
      "    N       : 20\n",
      "    d       : 0.09\n",
      "    rho     : 12214.7\n",
      "    EAMod   : 1\n",
      "    EA      : 3.84243e+08\n",
      "    BA      : -0.8\n",
      "    EI      : 0\n",
      "    Can     : 1\n",
      "    Cat     : 0\n",
      "    Cdn     : 1.6\n",
      "    Cdt     : 0.1\n",
      "    Cl      : 0\n",
      "    dF      : 0\n",
      "    cF      : 0\n",
      "    ww_l    : 698.333\n",
      "Line 3 damping set to 9.80212e+08 Pa-s = 6.23584e+06 Ns, based on input of -0.8\n",
      "Initialized Line 3\n",
      "Remaining error after 52 s = 0.0014854 m/s2\n",
      "Best score at 52 s = 0.0014854 m/s2\n",
      "Water kinematics for runtime:\n",
      "   No Waves or Currents, or set externally\n"
     ]
    },
    {
     "data": {
      "text/plain": [
       "0"
      ]
     },
     "execution_count": 3,
     "metadata": {},
     "output_type": "execute_result"
    }
   ],
   "source": [
    "# Create the MoorDyn system from the input file\n",
    "system = moordyn.Create(\"lines.txt\")\n",
    "\n",
    "# Set the initial positions in this driver code to what was defined in the input file\n",
    "x = np.array([ 5.2,  0.0, -70.0,   # point 4\n",
    "              -2.6,  4.5, -70.0,   # point 5\n",
    "              -2.6, -4.5, -70.0])  # point 6\n",
    "\n",
    "# Set the velocities to zero. 3 coupled points x 3 DoF per point = 9 DoF\n",
    "xd = np.zeros(9)\n",
    "# Formerly:\n",
    "    # xd = [0] * 9\n",
    "\n",
    "# Setup the initial condition\n",
    "moordyn.Init(system, x, xd)"
   ]
  },
  {
   "cell_type": "markdown",
   "id": "db2aee",
   "metadata": {
    "collapsed": false
   },
   "source": [
    "## Time Stepping\n",
    "\n",
    "Then we run the simulation, moving the fairleads at 0.5 m/s in the x direction:"
   ]
  },
  {
   "cell_type": "code",
   "execution_count": null,
   "id": "45924a",
   "metadata": {
    "collapsed": false
   },
   "outputs": [
    {
     "name": "stdout",
     "output_type": "stream",
     "text": [
      "Tensions at the fairleads:\n",
      "FairTen1 =  827414.2252929022\n",
      "FairTen2 =  939998.8305276999\n",
      "FairTen3 =  939998.8305276999\n"
     ]
    },
    {
     "data": {
      "text/plain": [
       "0"
      ]
     },
     "execution_count": 4,
     "metadata": {},
     "output_type": "execute_result"
    }
   ],
   "source": [
    "# Make the points move at 0.5 m/s to the positive x direction\n",
    "for i in range(3):\n",
    "    xd[3 * i] = 0.5\n",
    "t, dt = 0.0, 0.5\n",
    "\n",
    "# Run the simulation for five timesteps\n",
    "for i in range(5):\n",
    "    f = moordyn.Step(system, x, xd, t, dt)\n",
    "    t += dt # update the time\n",
    "    x += xd * dt # update the position \n",
    "\n",
    "# Print the last output fairlead tensions on the lines (the vector sum of the forces returned by moordyn)\n",
    "print(\"Tensions at the fairleads:\")\n",
    "print(\"FairTen1 = \", np.linalg.norm(f[0:3]))\n",
    "print(\"FairTen2 = \", np.linalg.norm(f[3:6]))\n",
    "print(\"FairTen3 = \", np.linalg.norm(f[6:9]))\n",
    "    \n",
    "# Alright, time to finish!\n",
    "moordyn.Close(system)"
   ]
  },
  {
   "cell_type": "markdown",
   "id": "4acdd5",
   "metadata": {
    "collapsed": false
   },
   "source": [
    "## Visualizing\n",
    "\n",
    "MoorPy, a quasi-static mooring solver, can be used to visualize the outputs of MoorDyn. The details of MoorPy are beyond the scope of this example but can be found on the [MoorPy docs page](https://moorpy.readthedocs.io/en/latest/). In order to make the MoorDyn system compatible with MoorPy visualization, we need to output the line node positions. This is why we included the **p** flag in the LineOutputs:\n",
    "```\n",
    "---------------------- LINES ----------------------------------------\n",
    "ID   LineType   AttachA  AttachB  UnstrLen  NumSegs  LineOutputs\n",
    "(#)   (name)     (#)      (#)       (m)       (-)     (-)\n",
    "1     main       1        4         902.2     20       p\n",
    "```\n"
   ]
  },
  {
   "cell_type": "code",
   "execution_count": 5,
   "id": "14db1a",
   "metadata": {
    "collapsed": false
   },
   "outputs": [
    {
     "name": "stdout",
     "output_type": "stream",
     "text": [
      "attempting to read lines.txt\n",
      "Mooring input file 'lines.txt' loaded successfully.\n",
      "attempting to load ./lines_Line1.out\n",
      "attempting to load ./lines_Line2.out\n",
      "attempting to load ./lines_Line3.out\n"
     ]
    },
    {
     "data": {
      "text/plain": [
       "(<Figure size 600x400 with 1 Axes>, <Axes3D: >)"
      ]
     },
     "execution_count": 5,
     "metadata": {},
     "output_type": "execute_result"
    },
    {
     "data": {
      "image/png": "[encoded data removed]",
      "text/plain": [
       "<Figure size 600x400 with 1 Axes>"
      ]
     },
     "execution_count": 5,
     "metadata": {},
     "output_type": "execute_result"
    }
   ],
   "source": [
    "# Create a MoorPy system (this loads the moordyn outputs found in <dirname>/<rootname>_<object>#.out, where <object> is either Line or Rod and # is the corresponding number)\n",
    "ms = moorpy.System(file=\"lines.txt\", dirname=\"./\", rootname=\"lines\", qs = 0, Fortran = False) # qs tells MoorPy it is loading a MoorDyn system, Fortran = False tells it to use the MoorDyn-C output format\n",
    "\n",
    "# Plot the results at t = 0 in red\n",
    "ms.plot(color=\"red\", time = 0)"
   ]
  },
  {
   "cell_type": "markdown",
   "id": "dfe100",
   "metadata": {
    "collapsed": false
   },
   "source": [
    "# 3-lines with Body Simple Example\n",
    "\n",
    "## Input File\n",
    "\n",
    "For the second example, we will be running a very similar setup to the previous case, but this time we will couple to a rigid body.\n",
    "Similar to how the previous case is set up, we have three catenary lines. However, this time, the fairleads are attached to a rigid body,\n",
    "which is then coupled to the external code. When using a rigid body, we need to be strategic about how we define positions because the body \n",
    "motion controls the fairlead motion. For our setup, we define the body at `0, 0, -70`, which is the depth of the fairlead attachments in \n",
    "the previous example. The fairlead locations are then defined in that body's reference frame.\n",
    "\n",
    "\n",
    "This setup looks like the following MoorDyn input file:\n",
    "\n",
    "```\n",
    "--------------------- MoorDyn Input File ------------------------------------\n",
    "MoorDyn input file of the mooring system for OC3-Hywind\n",
    "----------------------- LINE TYPES ------------------------------------------\n",
    "TypeName   Diam    Mass/m     EA         BA/-zeta    EI         Cd     Ca     CdAx    CaAx\n",
    "(name)     (m)     (kg/m)     (N)        (N-s/-)     (N-m^2)    (-)    (-)    (-)     (-)\n",
    "main       0.09    77.7066    384.243E6  -0.8        0          1.6    1.0    0.1     0.0\n",
    "----------------------- BODIES ------------------------------------------------------\n",
    "ID   Attachment  X0   Y0   Z0   r0    p0    y0   Mass  CG*   I*     Volume  CdA*   Ca*\n",
    "(#)     (-)      (m)  (m)  (m) (deg) (deg) (deg) (kg)  (m) (kg-m^2) (m^3)   (m^2)  (-)\n",
    "1    Coupled      0    0  -70    0     0     0     0    0     0       0       0     0\n",
    "---------------------- POINT PROPERTIES --------------------------------\n",
    "ID    Type      X       Y       Z       Mass   Volume  CdA    Ca\n",
    "(#)   (-)       (m)     (m)     (m)     (kg)   (mˆ3)   (m^2)  (-)\n",
    "1     Fixed     853.87  0       -320.0  0      0       0      0\n",
    "2     Fixed     -426.94 739.47  -320.0  0      0       0      0\n",
    "3     Fixed     -426.94 -739.47 -320.0  0      0       0      0\n",
    "4     Body1    5.2     0.0        0.0   0      0       0      0\n",
    "5     Body1    -2.6    4.5        0.0   0      0       0      0\n",
    "6     Body1    -2.6    -4.5       0.0   0      0       0      0\n",
    "---------------------- LINES ----------------------------------------\n",
    "ID   LineType   AttachA  AttachB  UnstrLen  NumSegs  LineOutputs\n",
    "(#)   (name)     (#)      (#)       (m)       (-)     (-)\n",
    "1     main       1        4         902.2     20      p\n",
    "2     main       2        5         902.2     20      p\n",
    "3     main       3        6         902.2     20      p\n",
    "---------------------- OPTIONS -----------------------------------------\n",
    "2             writeLog      Write a log file\n",
    "0.002         dtM           time step to use in mooring integration (s)\n",
    "3.0e6         kBot          bottom stiffness (Pa/m)\n",
    "3.0e5         cBot          bottom damping (Pa-s/m)\n",
    "1025.0        WtrDnsty      water density (kg/m^3)\n",
    "320           WtrDpth       water depth (m)\n",
    "1.0           dtIC          time interval for analyzing convergence during IC gen (s)\n",
    "100.0         TmaxIC        max time for ic gen (s)\n",
    "4.0           CdScaleIC     factor by which to scale drag coefficients during dynamic relaxation (-)\n",
    "0.001         threshIC      threshold for IC convergence (-)\n",
    "1             disableOutTime\n",
    "---------------------- OUTPUTS -----------------------------------------\n",
    "FairTen1\n",
    "FairTen2\n",
    "FairTen3\n",
    "------------------------- need this line -------------------------------------- \n",
    "```"
   ]
  },
  {
   "cell_type": "markdown",
   "id": "3503c3",
   "metadata": {
    "collapsed": false
   },
   "source": [
    "## Initialization\n",
    "\n",
    "First, we initialize the system. In this case, we will lean more heavily on the MoorDyn-C API:"
   ]
  },
  {
   "cell_type": "code",
   "execution_count": null,
   "id": "e3b168",
   "metadata": {
    "collapsed": false
   },
   "outputs": [
    {
     "name": "stdout",
     "output_type": "stream",
     "text": [
      "\n",
      " Running MoorDyn (v2.4.0)\n",
      "         MoorDyn v2 has significant ongoing input file changes from v1.\n",
      "   Copyright: (C) 2024 National Renewable Energy Laboratory, (C) 2014-2019 Matt Hall\n",
      "   This program is released under the  BSD 3-Clause license.\n",
      "The filename is body.txt\n",
      "MoorDyn v2 log file with output level MSG at 'body.log'\n",
      "Generated entities:\n",
      "\tnLineTypes  = 1\n",
      "\tnRodTypes   = 0\n",
      "\tnPoints     = 6\n",
      "\tnBodies     = 1\n",
      "\tnRods       = 0\n",
      "\tnLines      = 3\n",
      "\tnFails      = 0\n",
      "\tnFreeBodies = 0\n",
      "\tnFreeRods   = 0\n",
      "\tnFreePoints  = 0\n",
      "\tnCpldBodies = 1\n",
      "\tnCpldRods   = 0\n",
      "\tnCpldPoints = 0\n",
      "Time integrator = 2nd order Runge-Kutta\n",
      "Water kinematics for IC gen:\n",
      "   No Waves or Currents, or set externally\n"
     ]
    },
    {
     "data": {
      "text/plain": [
       "0"
      ]
     },
     "execution_count": 6,
     "metadata": {},
     "output_type": "execute_result"
    },
    {
     "name": "stdout",
     "output_type": "stream",
     "text": [
      "Creating mooring system...\n",
      "Initializing coupled Body 1 at 0, 0, -70...\n",
      "dtM = 0.002 s (CFL = 0.015691)\n",
      "Finalizing ICs using static solve\n",
      "  - Line1:\n",
      "    ID      : 1\n",
      "    UnstrLen: 902.2\n",
      "    N       : 20\n",
      "    d       : 0.09\n",
      "    rho     : 12214.7\n",
      "    EAMod   : 1\n",
      "    EA      : 3.84243e+08\n",
      "    BA      : -0.8\n",
      "    EI      : 0\n",
      "    Can     : 1\n",
      "    Cat     : 0\n",
      "    Cdn     : 1.6\n",
      "    Cdt     : 0.1\n",
      "    Cl      : 0\n",
      "    dF      : 0\n",
      "    cF      : 0\n",
      "    ww_l    : 698.333\n",
      "Line 1 damping set to 9.80212e+08 Pa-s = 6.23584e+06 Ns, based on input of -0.8\n",
      "Initialized Line 1\n",
      "  - Line2:\n",
      "    ID      : 2\n",
      "    UnstrLen: 902.2\n",
      "    N       : 20\n",
      "    d       : 0.09\n",
      "    rho     : 12214.7\n",
      "    EAMod   : 1\n",
      "    EA      : 3.84243e+08\n",
      "    BA      : -0.8\n",
      "    EI      : 0\n",
      "    Can     : 1\n",
      "    Cat     : 0\n",
      "    Cdn     : 1.6\n",
      "    Cdt     : 0.1\n",
      "    Cl      : 0\n",
      "    dF      : 0\n",
      "    cF      : 0\n",
      "    ww_l    : 698.333\n",
      "Line 2 damping set to 9.80212e+08 Pa-s = 6.23584e+06 Ns, based on input of -0.8\n",
      "Initialized Line 2\n",
      "  - Line3:\n",
      "    ID      : 3\n",
      "    UnstrLen: 902.2\n",
      "    N       : 20\n",
      "    d       : 0.09\n",
      "    rho     : 12214.7\n",
      "    EAMod   : 1\n",
      "    EA      : 3.84243e+08\n",
      "    BA      : -0.8\n",
      "    EI      : 0\n",
      "    Can     : 1\n",
      "    Cat     : 0\n",
      "    Cdn     : 1.6\n",
      "    Cdt     : 0.1\n",
      "    Cl      : 0\n",
      "    dF      : 0\n",
      "    cF      : 0\n",
      "    ww_l    : 698.333\n",
      "Line 3 damping set to 9.80212e+08 Pa-s = 6.23584e+06 Ns, based on input of -0.8\n",
      "Initialized Line 3\n",
      "Remaining error after 52 s = 0.00146219 m/s2\n",
      "Best score at 52 s = 0.00146219 m/s2\n",
      "Water kinematics for runtime:\n",
      "   No Waves or Currents, or set externally\n"
     ]
    }
   ],
   "source": [
    "# Create the MoorDyn system from the input file\n",
    "system = moordyn.Create(\"body.txt\")\n",
    "\n",
    "# You can get the initial positions and velocities from the system itself using the MoorDyn-C API\n",
    "body = moordyn.GetBody(system, 1)\n",
    "state = moordyn.GetBodyState(body) # tuple with (x, xd)\n",
    "\n",
    "x = np.array(state[0]) # x, y, z, roll, pitch, yaw \n",
    "xd = np.array(state[1]) # xdot, ydot, zdot, roll_dot, pitch_dot, yaw_dot \n",
    "\n",
    "# Setup the initial condition\n",
    "moordyn.Init(system, x, xd)"
   ]
  },
  {
   "cell_type": "markdown",
   "id": "fc5957",
   "metadata": {
    "collapsed": false
   },
   "source": [
    "## Time Stepping\n",
    "\n",
    "Then we run the simulation, moving the fairleads by moving the body at 0.5 m/s in the x direction:"
   ]
  },
  {
   "cell_type": "code",
   "execution_count": null,
   "id": "9e27d7",
   "metadata": {
    "collapsed": false
   },
   "outputs": [
    {
     "name": "stdout",
     "output_type": "stream",
     "text": [
      "FairTen1 =  827414.2252929765\n",
      "FairTen2 =  939998.8305276999\n",
      "FairTen3 =  939998.8305276999\n"
     ]
    },
    {
     "data": {
      "text/plain": [
       "0"
      ]
     },
     "execution_count": 7,
     "metadata": {},
     "output_type": "execute_result"
    }
   ],
   "source": [
    "# Make the body move at 0.5 m/s to the positive x direction\n",
    "xd[0] = 0.5 # 0 index is the first of 6 DOF\n",
    "t, dt = 0.0, 0.5\n",
    "\n",
    "# Run the simulation for five timesteps\n",
    "for i in range(5):\n",
    "    f = moordyn.Step(system, x, xd, t, dt)\n",
    "    t += dt\n",
    "    x += xd * dt # update the position \n",
    "\n",
    "# Print the last output fairlead tensions on the lines (the vector sum of the forces returned by moordyn)\n",
    "point4 = moordyn.GetPoint(system, 4)\n",
    "point5 = moordyn.GetPoint(system, 5)\n",
    "point6 = moordyn.GetPoint(system, 6)\n",
    "print(\"FairTen1 = \", np.linalg.norm(moordyn.GetPointForce(point4)))\n",
    "print(\"FairTen2 = \", np.linalg.norm(moordyn.GetPointForce(point5)))\n",
    "print(\"FairTen3 = \", np.linalg.norm(moordyn.GetPointForce(point6)))\n",
    "\n",
    "# Alright, time to finish!\n",
    "moordyn.Close(system)"
   ]
  },
  {
   "cell_type": "markdown",
   "id": "9e7f33",
   "metadata": {
    "collapsed": false
   },
   "source": [
    "## Visualization\n",
    "\n",
    "Now let's visualize with MoorPy!"
   ]
  },
  {
   "cell_type": "code",
   "execution_count": null,
   "id": "861467",
   "metadata": {
    "collapsed": false
   },
   "outputs": [
    {
     "name": "stdout",
     "output_type": "stream",
     "text": [
      "attempting to read body.txt\n",
      "Mooring input file 'body.txt' loaded successfully.\n",
      "attempting to load ./body_Line1.out\n",
      "attempting to load ./body_Line2.out\n",
      "attempting to load ./body_Line3.out\n"
     ]
    },
    {
     "data": {
      "text/plain": [
       "(<Figure size 600x400 with 1 Axes>, <Axes3D: >)"
      ]
     },
     "execution_count": 8,
     "metadata": {},
     "output_type": "execute_result"
    },
    {
     "data": {
      "image/png": "[encoded data removed]",
      "text/plain": [
       "<Figure size 600x400 with 1 Axes>"
      ]
     },
     "execution_count": 8,
     "metadata": {},
     "output_type": "execute_result"
    }
   ],
   "source": [
    "# Create a MoorPy system (this loads the moordyn outputs found in <dirname>/<rootname>_<object>#.out, where <object> is either Line or Rod and # is the corresponding number). File is required for MoorPy to know the mooring system parameters. \n",
    "ms = moorpy.System(file=\"body.txt\", dirname=\"./\", rootname=\"body\", qs = 0, Fortran = False) # qs tells MoorPy it is loading a MoorDyn system, Fortran = False tells it to use the MoorDyn-C output format\n",
    "\n",
    "# Plot the results at t = 0 in red\n",
    "ms.plot(color=\"red\", time = 0)"
   ]
  },
  {
   "cell_type": "markdown",
   "id": "a20bf7",
   "metadata": {
    "collapsed": false
   },
   "source": [
    "# Closing Notes\n",
    "\n",
    "The process for running MoorDyn as described here is the same internals that OpenFAST and WEC-Sim both use when running coupled with MoorDyn. \n",
    "At each timestep, the forces returned by MoorDyn are passed into these codes and used to determine the new position of the device which is \n",
    "passed back to MoorDyn. In those codes, all you need to do is provide the MoorDyn input files and enable the relevant flags. The coupling is \n",
    "all handled internally. \n",
    "\n",
    "MoorDyn is always looking for new projects to engage with. Couplings are underway with Chrono and Hydrochrono as well as numerous commercial codes. Any \n",
    "new collaboration would be more than welcome!"
   ]
  }
 ],
 "metadata": {
  "kernelspec": {
   "display_name": "base",
   "language": "python",
   "name": "python3"
  },
  "language_info": {
   "codemirror_mode": {
    "name": "ipython",
    "version": 3
   },
   "file_extension": ".py",
   "mimetype": "text/x-python",
   "name": "python",
   "nbconvert_exporter": "python",
   "pygments_lexer": "ipython3",
   "version": "3.11.8"
  }
 },
 "nbformat": 4,
 "nbformat_minor": 4
}
